{
 "cells": [
  {
   "cell_type": "code",
   "execution_count": 3,
   "metadata": {},
   "outputs": [],
   "source": [
    "import numpy as np\n",
    "import matplotlib.pyplot as pl\n",
    "import pylab as pl\n",
    "from numpy import linalg as LA"
   ]
  },
  {
   "cell_type": "code",
   "execution_count": 194,
   "metadata": {},
   "outputs": [
    {
     "name": "stdout",
     "output_type": "stream",
     "text": [
      "(731, 256)\n",
      "(658, 256)\n",
      "(2007, 257)\n"
     ]
    }
   ],
   "source": [
    "train_data_2 = np.loadtxt(\"/Users/qinghongxu/Documents/MATH895/HW1/train.2.txt\",delimiter=',')\n",
    "train_data_3 = np.loadtxt(\"/Users/qinghongxu/Documents/MATH895/HW1/train.3.txt\",delimiter=',')\n",
    "test_data = np.loadtxt(\"/Users/qinghongxu/Documents/MATH895/HW1/test.txt\",delimiter=' ')\n",
    "print(train_data_2.shape) \n",
    "print(train_data_3.shape) \n",
    "print(test_data.shape) \n",
    "train_data_2_number = train_data_2.shape[0]\n",
    "train_data_3_number = train_data_3.shape[0]\n",
    "test_data_number = test_data.shape[0]"
   ]
  },
  {
   "cell_type": "code",
   "execution_count": 60,
   "metadata": {},
   "outputs": [
    {
     "data": {
      "image/png": "[encoded data removed]",
      "text/plain": [
       "<Figure size 288x288 with 1 Axes>"
      ]
     },
     "metadata": {},
     "output_type": "display_data"
    },
    {
     "data": {
      "image/png": "[encoded data removed]",
      "text/plain": [
       "<Figure size 288x288 with 1 Axes>"
      ]
     },
     "metadata": {},
     "output_type": "display_data"
    }
   ],
   "source": [
    "train_data_2_images = train_data_2.reshape(train_data_2_number,16,16)\n",
    "pl.matshow(train_data_2_images[10])\n",
    "pl.show()\n",
    "train_data_3_images = train_data_3.reshape(train_data_3_number,16,16)\n",
    "pl.matshow(train_data_3_images[10])\n",
    "pl.show()"
   ]
  },
  {
   "cell_type": "code",
   "execution_count": 195,
   "metadata": {},
   "outputs": [],
   "source": [
    "label_2 = np.zeros((train_data_2_number))\n",
    "label_3 = np.ones((train_data_3_number))"
   ]
  },
  {
   "cell_type": "code",
   "execution_count": 248,
   "metadata": {},
   "outputs": [],
   "source": [
    "# Linear regression to solve beta\n",
    "train_data_23 = np.concatenate((train_data_2,train_data_3))\n",
    "train_data_23 = np.insert(train_data_23, 0, 1, axis=1)\n",
    "label_23 = np.concatenate((label_2,label_3))\n",
    "beta_hat = np.linalg.lstsq(train_data_23, label_23, rcond=None)[0]"
   ]
  },
  {
   "cell_type": "code",
   "execution_count": 114,
   "metadata": {},
   "outputs": [
    {
     "data": {
      "text/plain": [
       "numpy.ndarray"
      ]
     },
     "execution_count": 114,
     "metadata": {},
     "output_type": "execute_result"
    }
   ],
   "source": [
    "# Linear fit for train data\n",
    "train_data_y = np.matmul(train_data_23, beta_hat)\n",
    "train_data_y[np.where(train_data_y < 0.5)[0]] = 0\n",
    "train_data_y[np.where(train_data_y >= 0.5)[0]] = 1"
   ]
  },
  {
   "cell_type": "code",
   "execution_count": 149,
   "metadata": {},
   "outputs": [],
   "source": [
    "incorrect_train_index = np.where(label_23!=train_data_y)[0]\n",
    "incorrect_train_index_2 = incorrect_train_index[incorrect_train_index <=train_data_2_number]\n",
    "incorrect_train_index_3 = incorrect_train_index[incorrect_train_index > train_data_3_number] "
   ]
  },
  {
   "cell_type": "code",
   "execution_count": null,
   "metadata": {},
   "outputs": [],
   "source": []
  },
  {
   "cell_type": "code",
   "execution_count": 150,
   "metadata": {},
   "outputs": [
    {
     "name": "stdout",
     "output_type": "stream",
     "text": [
      "0.00575953923686\n",
      "0.00410396716826\n",
      "0.00759878419453\n"
     ]
    }
   ],
   "source": [
    "# Error ratio for train data\n",
    "error_train_23 = float(incorrect_train_index.size)/(train_data_2_number+train_data_3_number)\n",
    "error_train_2 = float(incorrect_train_index_2.size)/train_data_2_number\n",
    "error_train_3 = float(incorrect_train_index_3.size)/train_data_3_number\n",
    "print(error_train_23)\n",
    "print(error_train_2)\n",
    "print(error_train_3)"
   ]
  },
  {
   "cell_type": "code",
   "execution_count": 186,
   "metadata": {},
   "outputs": [],
   "source": [
    "test_data_2 = test_data[test_data[:,0] == 2,1:257]\n",
    "test_data_3 = test_data[test_data[:,0] == 3,1:257]\n",
    "test_label_2 = np.zeros((test_data_2.shape[0]))\n",
    "test_label_3 = np.ones((test_data_3.shape[0]))\n",
    "test_label_23 = np.concatenate((test_label_2,test_label_3))"
   ]
  },
  {
   "cell_type": "code",
   "execution_count": 187,
   "metadata": {},
   "outputs": [],
   "source": [
    "test_data_23 = np.concatenate((test_data_2,test_data_3))\n",
    "test_data_23 = np.insert(test_data_23, 0, 1, axis=1)\n",
    "test_data_y = np.matmul(test_data_23, beta_hat)\n",
    "test_data_y[np.where(test_data_y < 0.5)[0]] = 0\n",
    "test_data_y[np.where(test_data_y >= 0.5)[0]] = 1"
   ]
  },
  {
   "cell_type": "code",
   "execution_count": 196,
   "metadata": {},
   "outputs": [],
   "source": [
    "incorrect_test_index = np.where(test_label_23!=test_data_y)[0]\n",
    "incorrect_test_index_2 = incorrect_test_index[incorrect_test_index <=test_data_2.shape[0]]\n",
    "incorrect_test_index_3 = incorrect_test_index[incorrect_test_index > test_data_3.shape[0]] "
   ]
  },
  {
   "cell_type": "code",
   "execution_count": 197,
   "metadata": {},
   "outputs": [
    {
     "name": "stdout",
     "output_type": "stream",
     "text": [
      "0.0412087912088\n",
      "0.0353535353535\n",
      "0.0542168674699\n"
     ]
    }
   ],
   "source": [
    "# Error ratio for test data\n",
    "error_test_23 = float(incorrect_test_index.size)/(test_data_2.shape[0]+test_data_3.shape[0])\n",
    "error_test_2 = float(incorrect_test_index_2.size)/test_data_2.shape[0]\n",
    "error_test_3 = float(incorrect_test_index_3.size)/test_data_3.shape[0]\n",
    "print(error_test_23)\n",
    "print(error_test_2)\n",
    "print(error_test_3)"
   ]
  },
  {
   "cell_type": "code",
   "execution_count": 238,
   "metadata": {},
   "outputs": [],
   "source": [
    "def computeDistance(instance1, instance2):\n",
    "    distance = LA.norm(instance1 - instance2, 2)\n",
    "    return distance"
   ]
  },
  {
   "cell_type": "code",
   "execution_count": 239,
   "metadata": {},
   "outputs": [],
   "source": [
    "def findNeighbours(traindataSetLabeled, testdataInstance, k):\n",
    "    distances = []\n",
    "    for x in range(len(traindataSetLabeled)):\n",
    "        dist = computeDistance(testdataInstance, traindataSetLabeled[x])\n",
    "        distances = np.append(distances, dist)\n",
    "    traindataNew = np.insert(traindataSetLabeled, 0, distances, axis = 1 )\n",
    "    traindataSort = np.sort(traindataNew, axis = 0 )\n",
    "    neighbours = traindataSort[0:k]\n",
    "    return neighbours"
   ]
  },
  {
   "cell_type": "code",
   "execution_count": 240,
   "metadata": {},
   "outputs": [],
   "source": [
    "def getResponse(neighbours):\n",
    "    k = neighbours.shape[0]\n",
    "    response = float(np.sum(neighbours, axis=0)[1])/k\n",
    "    if response < 0.5:\n",
    "        result = 0\n",
    "    else:\n",
    "        result = 1\n",
    "    return response"
   ]
  },
  {
   "cell_type": "code",
   "execution_count": 241,
   "metadata": {},
   "outputs": [],
   "source": [
    "train_data_2_Label = np.insert(train_data_2, 0, label_2, axis = 1  )\n",
    "train_data_3_Label = np.insert(train_data_3, 0, label_3, axis = 1 )\n",
    "train_data_Label = np.append(train_data_2_Label, train_data_3_Label, axis=0)"
   ]
  },
  {
   "cell_type": "code",
   "execution_count": null,
   "metadata": {},
   "outputs": [],
   "source": [
    "k = 1\n",
    "prediction = []\n",
    "for x in range(test_data.shape[0]):\n",
    "    neighbours = findNeighbours(train_data_Label, test_data[x], k)\n",
    "    result = getResponse(neighbours)\n",
    "    prediction = np.append(prediction, result)\n",
    "return prediction"
   ]
  },
  {
   "cell_type": "code",
   "execution_count": 246,
   "metadata": {},
   "outputs": [
    {
     "data": {
      "text/plain": [
       "array([0., 0., 0., ..., 0., 0., 0.])"
      ]
     },
     "execution_count": 246,
     "metadata": {},
     "output_type": "execute_result"
    }
   ],
   "source": [
    "prediction"
   ]
  },
  {
   "cell_type": "code",
   "execution_count": 249,
   "metadata": {},
   "outputs": [
    {
     "name": "stdout",
     "output_type": "stream",
     "text": [
      "0.000719942404608\n"
     ]
    },
    {
     "name": "stderr",
     "output_type": "stream",
     "text": [
      "/Users/qinghongxu/anaconda2/lib/python2.7/site-packages/ipykernel_launcher.py:1: DeprecationWarning: elementwise != comparison failed; this will raise an error in the future.\n",
      "  \"\"\"Entry point for launching an IPython kernel.\n"
     ]
    }
   ],
   "source": [
    "incorrect_train_index = np.where(label_23!=prediction)[0]\n",
    "error_train_23 = float(incorrect_train_index.size)/(train_data_2_number+train_data_3_number)\n",
    "print(error_train_23)"
   ]
  },
  {
   "cell_type": "code",
   "execution_count": null,
   "metadata": {},
   "outputs": [],
   "source": [
    "incorrect_train_index = np.where(label_23!=prediction)[0]\n",
    "error_train_23 = float(incorrect_train_index.size)/(train_data_2_number+train_data_3_number)\n",
    "print(error_train_23)\n"
   ]
  },
  {
   "cell_type": "code",
   "execution_count": 4,
   "metadata": {},
   "outputs": [
    {
     "data": {
      "image/png": "[encoded data removed]",
      "text/plain": [
       "<Figure size 432x288 with 1 Axes>"
      ]
     },
     "metadata": {},
     "output_type": "display_data"
    }
   ],
   "source": [
    "pl.plot([1, 3, 5, 7, 15],[0.000000, 0.503960, 0.575954, 0.647948, 0.935925],'ro', [1, 3, 5, 7, 15],[2.472527, 3.021978, 3.021978, 3.296703, 3.846154], 'bs',1,0.575953923686,'',1,4.12087912088,'')\n",
    "\n",
    "pl.ylabel('error %')\n",
    "pl.title('error plot for k-nearest neighbours')\n",
    "pl.legend([\"training data\",\"test data\"])\n",
    "pl.grid()\n",
    "pl.show()"
   ]
  },
  {
   "cell_type": "code",
   "execution_count": null,
   "metadata": {},
   "outputs": [],
   "source": []
  }
 ],
 "metadata": {
  "kernelspec": {
   "display_name": "Python 2",
   "language": "python",
   "name": "python2"
  },
  "language_info": {
   "codemirror_mode": {
    "name": "ipython",
    "version": 2
   },
   "file_extension": ".py",
   "mimetype": "text/x-python",
   "name": "python",
   "nbconvert_exporter": "python",
   "pygments_lexer": "ipython2",
   "version": "2.7.15"
  }
 },
 "nbformat": 4,
 "nbformat_minor": 2
}
