{
 "cells": [
  {
   "cell_type": "code",
   "execution_count": 8,
   "metadata": {},
   "outputs": [],
   "source": [
    "import numpy as np\n",
    "import matplotlib.pyplot as pl\n",
    "from numpy import linalg as LA\n",
    "from operator import itemgetter"
   ]
  },
  {
   "cell_type": "code",
   "execution_count": 9,
   "metadata": {},
   "outputs": [],
   "source": [
    "train_data_2 = np.loadtxt(\"/Users/qinghongxu/Documents/MATH895/HW1/train.2.txt\",delimiter=',')\n",
    "train_data_3 = np.loadtxt(\"/Users/qinghongxu/Documents/MATH895/HW1/train.3.txt\",delimiter=',')\n",
    "test_data = np.loadtxt(\"/Users/qinghongxu/Documents/MATH895/HW1/test.txt\",delimiter=' ')"
   ]
  },
  {
   "cell_type": "code",
   "execution_count": 10,
   "metadata": {},
   "outputs": [],
   "source": [
    "# Training data\n",
    "label_2 = np.zeros((train_data_2.shape[0]))\n",
    "label_3 = np.ones((train_data_3.shape[0]))\n",
    "label_23 = np.append(label_2, label_3, axis=0)\n",
    "train_data_23 = np.append(train_data_2, train_data_3, axis=0)"
   ]
  },
  {
   "cell_type": "code",
   "execution_count": 11,
   "metadata": {},
   "outputs": [],
   "source": [
    "# Test data\n",
    "test_data_2 = test_data[test_data[:,0] == 2,1:257]\n",
    "test_data_3 = test_data[test_data[:,0] == 3,1:257]\n",
    "test_label_2 = np.zeros((test_data_2.shape[0]))\n",
    "test_label_3 = np.ones((test_data_3.shape[0]))\n",
    "test_label_23 = np.concatenate((test_label_2,test_label_3))\n",
    "test_data_23 = np.concatenate((test_data_2,test_data_3))"
   ]
  },
  {
   "cell_type": "code",
   "execution_count": 77,
   "metadata": {},
   "outputs": [],
   "source": [
    "def computeDistance(instance1, instance2):\n",
    "    distance = LA.norm(instance1 - instance2, 2)\n",
    "    return distance"
   ]
  },
  {
   "cell_type": "code",
   "execution_count": 78,
   "metadata": {},
   "outputs": [],
   "source": [
    "def computeDistanceSet(traindataSet, testdataInstance):\n",
    "    distances = []\n",
    "    for x in range(len(traindataSet)):\n",
    "        dist = computeDistance(testdataInstance, traindataSet[x])\n",
    "        distances = np.append(distances, dist)\n",
    "    traindataNew = np.insert(traindataSet, 0, distances, axis = 1 )\n",
    "    return traindataNew"
   ]
  },
  {
   "cell_type": "code",
   "execution_count": 79,
   "metadata": {},
   "outputs": [],
   "source": [
    "def findNeighbours(traindataNew, label, k):\n",
    "    traindataNew = np.insert(traindataNew, 1, label, axis = 1)\n",
    "    traindataSort = traindataNew[np.argsort(traindataNew[:, 0])]\n",
    "    neighbours = traindataSort[0:k]\n",
    "    return neighbours"
   ]
  },
  {
   "cell_type": "code",
   "execution_count": 80,
   "metadata": {},
   "outputs": [],
   "source": [
    "def getResponse(neighbours):\n",
    "    k = neighbours.shape[0]\n",
    "    response = float(np.sum(neighbours, axis=0)[1])/k\n",
    "    if response >= 0.5:\n",
    "        result = 1\n",
    "    else:\n",
    "        result = 0\n",
    "    return response"
   ]
  },
  {
   "cell_type": "code",
   "execution_count": 109,
   "metadata": {},
   "outputs": [],
   "source": [
    "# k - Nearest neighbours\n",
    "def getAccuracykNN(traindata, testdata, k, trainlabel, testlabel):\n",
    "    prediction = []\n",
    "    for x in range(testdata.shape[0]):\n",
    "        traindataNew = computeDistanceSet(traindata, testdata[x])\n",
    "        neighbours = findNeighbours(traindataNew, trainlabel, k)\n",
    "        result = getResponse(neighbours)\n",
    "        prediction = np.append(prediction, result)\n",
    "    incorrect_index = np.where(testlabel!=prediction)[0]\n",
    "    error = float(incorrect_index.size)/(testdata.shape[0])\n",
    "    return(error)"
   ]
  },
  {
   "cell_type": "code",
   "execution_count": 12,
   "metadata": {},
   "outputs": [],
   "source": [
    "# Linear regression fit\n",
    "def getAccuracyLR(traindata, testdata, trainlabel, testlabel):\n",
    "    prediction = []\n",
    "    traindata = np.insert(traindata, 0, 1, axis=1)    \n",
    "    testdata = np.insert(testdata, 0, 1, axis=1)\n",
    "    beta_hat = np.linalg.lstsq(traindata, trainlabel, rcond=None)[0]\n",
    "    prediction = np.matmul(testdata, beta_hat)\n",
    "    prediction[np.where(prediction < 0.5)[0]] = 0\n",
    "    prediction[np.where(prediction >= 0.5)[0]] = 1\n",
    "    incorrect_index = np.where(testlabel!=prediction)[0]\n",
    "    error = float(incorrect_index.size)/(testdata.shape[0])\n",
    "    return(error)"
   ]
  },
  {
   "cell_type": "code",
   "execution_count": 112,
   "metadata": {},
   "outputs": [
    {
     "name": "stdout",
     "output_type": "stream",
     "text": [
      "when k = 1 , the error for training data is 0.000000\n",
      "when k = 3 , the error for training data is 0.016559\n",
      "when k = 5 , the error for training data is 0.029518\n",
      "when k = 7 , the error for training data is 0.050396\n",
      "when k = 15 , the error for training data is 0.129590\n"
     ]
    }
   ],
   "source": [
    "# Perform k-nn on training data\n",
    "k = [1, 3, 5, 7, 15]\n",
    "for x in k:\n",
    "    error = getAccuracykNN(train_data_23, train_data_23, x, label_23, label_23)\n",
    "    print 'when k = %d , the error for training data is %f' % (x, error)"
   ]
  },
  {
   "cell_type": "code",
   "execution_count": 111,
   "metadata": {},
   "outputs": [
    {
     "name": "stdout",
     "output_type": "stream",
     "text": [
      "when k = 1 , the error for test data is 0.024725\n",
      "when k = 3 , the error for test data is 0.046703\n",
      "when k = 5 , the error for test data is 0.063187\n",
      "when k = 7 , the error for test data is 0.090659\n",
      "when k = 15 , the error for test data is 0.156593\n"
     ]
    }
   ],
   "source": [
    "# Perform k-nn on test data\n",
    "k = [1, 3, 5, 7, 15]\n",
    "for x in k:\n",
    "    error = getAccuracykNN(train_data_23, test_data_23, x, label_23, test_label_23)\n",
    "    print 'when k = %d , the error for test data is %f' % (x, error)"
   ]
  },
  {
   "cell_type": "code",
   "execution_count": 13,
   "metadata": {},
   "outputs": [
    {
     "name": "stdout",
     "output_type": "stream",
     "text": [
      "the error for test data is 0.005760\n",
      "the error for training data is 0.041209\n"
     ]
    }
   ],
   "source": [
    "# Perform linear regression on training/test data\n",
    "data = [train_data_23, test_data_23]\n",
    "dataname = ['test data', 'training data']\n",
    "label = [label_23, test_label_23]\n",
    "for i in [0, 1]:\n",
    "    error = getAccuracyLR(data[0], data[i], label[0], label[i])   \n",
    "    print 'the error for %s is %f' % (dataname[i], error)"
   ]
  },
  {
   "cell_type": "code",
   "execution_count": null,
   "metadata": {},
   "outputs": [],
   "source": []
  }
 ],
 "metadata": {
  "kernelspec": {
   "display_name": "Python 2",
   "language": "python",
   "name": "python2"
  },
  "language_info": {
   "codemirror_mode": {
    "name": "ipython",
    "version": 2
   },
   "file_extension": ".py",
   "mimetype": "text/x-python",
   "name": "python",
   "nbconvert_exporter": "python",
   "pygments_lexer": "ipython2",
   "version": "2.7.15"
  }
 },
 "nbformat": 4,
 "nbformat_minor": 2
}
