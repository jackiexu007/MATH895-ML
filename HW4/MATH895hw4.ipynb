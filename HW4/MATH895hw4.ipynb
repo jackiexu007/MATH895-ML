{
 "cells": [
  {
   "cell_type": "code",
   "execution_count": 1,
   "metadata": {},
   "outputs": [],
   "source": [
    "import numpy as np\n",
    "import pandas as pd\n",
    "import matplotlib.pyplot as pl"
   ]
  },
  {
   "cell_type": "code",
   "execution_count": 2,
   "metadata": {},
   "outputs": [],
   "source": [
    "from patsy import dmatrix\n",
    "import statsmodels.api as sm\n",
    "import statsmodels.formula.api as smf"
   ]
  },
  {
   "cell_type": "code",
   "execution_count": 19,
   "metadata": {},
   "outputs": [],
   "source": [
    "x = np.random.uniform(0, 1, 50)\n",
    "x = -np.sort(-x)\n",
    "predict_glinear = list()\n",
    "predict_gcubic = list()\n",
    "predict_cs2 = list()\n",
    "predict_cs6 = list()"
   ]
  },
  {
   "cell_type": "code",
   "execution_count": 20,
   "metadata": {},
   "outputs": [],
   "source": [
    "for i in range(100):\n",
    "    y = np.random.normal(0, 1, 50)\n",
    "    \n",
    "    # Global linear \n",
    "    coe_linear = np.polyfit(x, y, 1)\n",
    "    linear = np.poly1d(coe_linear)\n",
    "    predict_linear = linear(x)\n",
    "    predict_glinear.append(predict_linear.tolist())\n",
    "    \n",
    "    # Global cubic\n",
    "    coe_cubic = np.polyfit(x, y, 3)\n",
    "    cubic = np.poly1d(coe_cubic)\n",
    "    predict_cubic = cubic(x)\n",
    "    predict_gcubic.append(predict_cubic.tolist())\n",
    "    \n",
    "    # Cubic spline 2 knots\n",
    "    transformed_x = dmatrix(\"bs(x, knots=(0.33, 0.66), degree=3, include_intercept=False)\")\n",
    "    fit1 = sm.GLM(y, transformed_x).fit()\n",
    "    predict_cs = fit1.predict(dmatrix(\"bs(x, knots=(0.33, 0.66), degree=3, include_intercept=False)\"))\n",
    "    predict_cs2.append(predict_cs)\n",
    "    \n",
    "    #Natural cubic spline\n",
    "    transformed_x = dmatrix(\"cr(x, df = 6, lower_bound = 0.1, upper_bound = 0.9, knots = (0.26, 0.42, 0.58, 0.74))\")\n",
    "    fit1 = sm.GLM(y, transformed_x).fit()\n",
    "    predict_ncs = fit1.predict(dmatrix(\"cr(x, df = 6, lower_bound = 0.1, upper_bound = 0.9, knots = ( 0.26, 0.42, 0.58, 0.74))\"))\n",
    "    predict_cs6.append(predict_ncs)\n",
    "    "
   ]
  },
  {
   "cell_type": "code",
   "execution_count": 21,
   "metadata": {},
   "outputs": [],
   "source": [
    "var_glieanr = np.var(predict_glinear,0)\n",
    "var_gcubic = np.var(predict_gcubic,0)\n",
    "var_cs2 = np.var(predict_cs2,0)\n",
    "var_cs6 = np.var(predict_cs6,0)"
   ]
  },
  {
   "cell_type": "code",
   "execution_count": 22,
   "metadata": {
    "scrolled": true
   },
   "outputs": [
    {
     "data": {
      "text/plain": [
       "Text(0,0.5,'Pointwise Variance')"
      ]
     },
     "execution_count": 22,
     "metadata": {},
     "output_type": "execute_result"
    },
    {
     "data": {
      "image/png": "[encoded data removed]",
      "text/plain": [
       "<Figure size 432x288 with 1 Axes>"
      ]
     },
     "metadata": {
      "needs_background": "light"
     },
     "output_type": "display_data"
    }
   ],
   "source": [
    "fig, ax = pl.subplots()\n",
    "ax.plot(x,var_glieanr,'b.-', label = 'Global Linear')\n",
    "ax.plot(x,var_gcubic,'g.-', label = 'Global Cubic')\n",
    "ax.plot(x,var_cs2,'r.-', label = 'Cubic Spline - 2 knots')\n",
    "ax.plot(x,var_cs6,'k.-', label = 'Natural Cubic Spline - 6 knots')\n",
    "legend = ax.legend(loc='upper center', shadow=True, fontsize='x-small')\n",
    "pl.xlabel('X')\n",
    "pl.ylabel('Pointwise Variance')"
   ]
  },
  {
   "cell_type": "code",
   "execution_count": 20,
   "metadata": {},
   "outputs": [],
   "source": [
    "from sklearn import tree\n",
    "from sklearn import cross_validation\n",
    "from random import randrange"
   ]
  },
  {
   "cell_type": "code",
   "execution_count": 95,
   "metadata": {},
   "outputs": [],
   "source": [
    "x = np.random.choice([0, 1], size=(100,))\n",
    "y = np.random.choice([0, 1], size=(100,))\n",
    "dataset = np.column_stack((x,y))"
   ]
  },
  {
   "cell_type": "code",
   "execution_count": 96,
   "metadata": {},
   "outputs": [],
   "source": [
    "def cross_validation_split(dataset, n_folds):\n",
    "    dataset_split = list()\n",
    "    dataset_copy = list(dataset)\n",
    "    size = int(len(dataset)/n_folds)\n",
    "    for i in range(n_folds):\n",
    "        fold = list()\n",
    "        while len(fold) <  size:\n",
    "            index = randrange(len(dataset_copy))\n",
    "            fold.append(dataset_copy.pop(index))\n",
    "        dataset_split.append(fold)\n",
    "    return dataset_split"
   ]
  },
  {
   "cell_type": "code",
   "execution_count": 106,
   "metadata": {},
   "outputs": [],
   "source": [
    "def evaluate_cv(dataset, n_folds):\n",
    "    folds = cross_validation_split(dataset, n_folds)\n",
    "    scores = list()\n",
    "    for fold in folds:\n",
    "        train_set = list(folds)\n",
    "        train_set.remove(fold)\n",
    "        train_set = sum(train_set,[])\n",
    "\n",
    "        actual = [row[-1] for row in fold]\n",
    "        tree_model = tree.DecisionTreeClassifier(max_depth=1)\n",
    "        \n",
    "        train_x = [[row[0]] for row in train_set]\n",
    "        train_y = [[row[-1]] for row in train_set]\n",
    "        \n",
    "        model = tree_model.fit(train_x,train_y)\n",
    "        test_x = [[row[0]] for row in fold]\n",
    "        prediction = model.predict(test_x)\n",
    "        error = sum(abs(prediction - actual))/float(20)\n",
    "    scores.append(error)\n",
    "    return scores"
   ]
  },
  {
   "cell_type": "code",
   "execution_count": 108,
   "metadata": {},
   "outputs": [
    {
     "data": {
      "text/plain": [
       "[0.5]"
      ]
     },
     "execution_count": 108,
     "metadata": {},
     "output_type": "execute_result"
    }
   ],
   "source": [
    "evaluate_cv(dataset.tolist(), 5)"
   ]
  }
 ],
 "metadata": {
  "kernelspec": {
   "display_name": "Python 2",
   "language": "python",
   "name": "python2"
  },
  "language_info": {
   "codemirror_mode": {
    "name": "ipython",
    "version": 2
   },
   "file_extension": ".py",
   "mimetype": "text/x-python",
   "name": "python",
   "nbconvert_exporter": "python",
   "pygments_lexer": "ipython2",
   "version": "2.7.15"
  }
 },
 "nbformat": 4,
 "nbformat_minor": 2
}
