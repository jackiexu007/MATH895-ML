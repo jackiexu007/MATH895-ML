{
 "cells": [
  {
   "cell_type": "code",
   "execution_count": null,
   "metadata": {},
   "outputs": [],
   "source": [
    "import numpy as np\n",
    "import pandas as pd\n",
    "import matplotlib.pyplot as pl\n",
    "from sklearn import tree\n",
    "import pydot\n",
    "from sklearn.metrics import accuracy_score\n",
    "from sklearn.decomposition import PCA\n",
    "from sklearn import linear_model\n",
    "from random import seed\n",
    "from random import random\n",
    "from random import randrange\n",
    "from sklearn.tree import DecisionTreeRegressor"
   ]
  },
  {
   "cell_type": "code",
   "execution_count": null,
   "metadata": {},
   "outputs": [],
   "source": [
    "from sklearn.preprocessing import LabelEncoder, OneHotEncoder\n",
    "from sklearn.metrics import accuracy_score, mean_absolute_error\n",
    "from string import ascii_letters\n",
    "import seaborn as sns\n",
    "from numpy import ndarray\n",
    "from numpy import mean\n",
    "from numpy import cov\n",
    "from numpy.linalg import eig\n",
    "from sklearn.metrics import r2_score, mean_absolute_error"
   ]
  },
  {
   "cell_type": "markdown",
   "metadata": {},
   "source": [
    "# Data preprocessing"
   ]
  },
  {
   "cell_type": "code",
   "execution_count": null,
   "metadata": {},
   "outputs": [],
   "source": [
    "train_data = pd.read_csv(\"/Users/qinghongxu/Documents/MATH895/project/abalone.data.txt\",\n",
    "                          delimiter=',' )"
   ]
  },
  {
   "cell_type": "code",
   "execution_count": null,
   "metadata": {},
   "outputs": [],
   "source": [
    "train_data = train_data[train_data['Height']>0]"
   ]
  },
  {
   "cell_type": "code",
   "execution_count": null,
   "metadata": {},
   "outputs": [],
   "source": [
    "train_data['Age'] = train_data['Rings'] + 1.5"
   ]
  },
  {
   "cell_type": "code",
   "execution_count": null,
   "metadata": {},
   "outputs": [],
   "source": [
    "v = train_data['Age'].values.tolist()\n",
    "a = [0] * len(v)\n",
    "for i in range(len(v)):\n",
    "    if v[i] <= 9.5:\n",
    "        a[i] = 0\n",
    "    elif v[i] >12.5:\n",
    "        a[i] = 2\n",
    "    else:\n",
    "        a[i] = 1"
   ]
  },
  {
   "cell_type": "code",
   "execution_count": null,
   "metadata": {
    "scrolled": true
   },
   "outputs": [],
   "source": [
    "# 3 - category classfication: 2.5<=Age<=9.5, 9.5<Age<=12.5, Age>12.5\n",
    "train_data['Target'] = a"
   ]
  },
  {
   "cell_type": "code",
   "execution_count": null,
   "metadata": {},
   "outputs": [],
   "source": [
    "train_data['Male'] = (train_data['Sex']=='M').astype(int)\n",
    "train_data['Female'] = (train_data['Sex']=='F').astype(int)\n",
    "train_data['Infant'] = (train_data['Sex']=='I').astype(int)"
   ]
  },
  {
   "cell_type": "code",
   "execution_count": null,
   "metadata": {},
   "outputs": [],
   "source": [
    "train_data['Sex'] = LabelEncoder().fit_transform(train_data['Sex'].tolist()) #F=0.0, I=1.0 , M=2.0"
   ]
  },
  {
   "cell_type": "markdown",
   "metadata": {},
   "source": [
    "  # Basic Data Analysis"
   ]
  },
  {
   "cell_type": "code",
   "execution_count": null,
   "metadata": {},
   "outputs": [],
   "source": [
    "#train_data = train_data.drop('Target', axis = 1)\n",
    "train_data = train_data.drop('Sex', axis = 1)\n",
    "#train_data = train_data.drop('Rings', axis = 1)\n",
    "corr = train_data.corr('kendall')\n",
    "mask = np.zeros_like(corr, dtype=np.bool)\n",
    "mask[np.triu_indices_from(mask)] = True\n",
    "f, ax = pl.subplots(figsize=(8, 6))\n",
    "cmap = sns.diverging_palette(220, 10, as_cmap=True)\n",
    "sns.heatmap(corr, mask=mask, cmap=cmap, vmax=1,square=True, \n",
    "            linewidths=.5, cbar_kws={\"shrink\": .5}, ax=ax);"
   ]
  },
  {
   "cell_type": "code",
   "execution_count": null,
   "metadata": {},
   "outputs": [],
   "source": [
    "Ytrain_data = train_data['Target']\n",
    "#train_data = train_data.drop('Sex',axis = 1)\n",
    "train_data = train_data.drop('Rings',axis = 1)\n",
    "train_data = train_data.drop('Age',axis = 1)\n",
    "train_data = train_data.drop('Target',axis = 1)\n"
   ]
  },
  {
   "cell_type": "code",
   "execution_count": null,
   "metadata": {},
   "outputs": [],
   "source": [
    "train_data = train_data.drop('Sex',axis = 1)"
   ]
  },
  {
   "cell_type": "code",
   "execution_count": null,
   "metadata": {},
   "outputs": [],
   "source": [
    "# PCA\n",
    "A = train_data[0:3133].values\n",
    "M = mean(A.T, axis=1)\n",
    "C = A - M\n",
    "V = cov(C.T)\n",
    "values, vectors = eig(V)\n",
    "P = vectors[0:3].dot(C.T)\n",
    "P.T.shape"
   ]
  },
  {
   "cell_type": "code",
   "execution_count": null,
   "metadata": {},
   "outputs": [],
   "source": [
    "train_data = train_data.drop('Sex',axis = 1)"
   ]
  },
  {
   "cell_type": "code",
   "execution_count": null,
   "metadata": {},
   "outputs": [],
   "source": [
    "Ytrain_data = train_data['Age']"
   ]
  },
  {
   "cell_type": "code",
   "execution_count": null,
   "metadata": {},
   "outputs": [],
   "source": [
    "train_data = train_data.drop('Rings',axis = 1)\n",
    "train_data = train_data.drop('Age',axis = 1)"
   ]
  },
  {
   "cell_type": "markdown",
   "metadata": {},
   "source": [
    "# Decision tree"
   ]
  },
  {
   "cell_type": "code",
   "execution_count": null,
   "metadata": {},
   "outputs": [],
   "source": [
    "def gini_index(groups, classes):\n",
    "    all_samples = float(sum(len(group) for group in groups))\n",
    "    gini = 0.0\n",
    "    for group in groups:\n",
    "        size = float(len(group))\n",
    "        probability = 0.0\n",
    "        if size == 0:\n",
    "            continue\n",
    "        for class_index in classes:\n",
    "            p = [row[-1] for row in group].count(class_index) / size          \n",
    "            probability += p * p\n",
    "        gini += (1 - probability)* size/all_samples\n",
    "    return gini"
   ]
  },
  {
   "cell_type": "code",
   "execution_count": null,
   "metadata": {},
   "outputs": [],
   "source": [
    "def entropy_index(groups, classes):\n",
    "    all_samples = float(sum(len(group) for group in groups))\n",
    "    entropy = 0.0\n",
    "    for group in groups:\n",
    "        size = float(len(group))\n",
    "        probability = 0.0\n",
    "        if size == 0:\n",
    "            continue\n",
    "        for class_index in classes:\n",
    "            p = [row[-1] for row in group].count(class_index) / size   \n",
    "            if p != 0:\n",
    "                probability += p * np.log(p)\n",
    "        entropy -=  probability * size/all_samples\n",
    "    return entropy"
   ]
  },
  {
   "cell_type": "code",
   "execution_count": null,
   "metadata": {},
   "outputs": [],
   "source": [
    "def test_split(index, value, dataset):\n",
    "    left, right = list(), list()\n",
    "    for row in dataset:\n",
    "        if row[index] < value:\n",
    "            left.append(row)\n",
    "        else:\n",
    "            right.append(row)\n",
    "    return left, right            "
   ]
  },
  {
   "cell_type": "code",
   "execution_count": null,
   "metadata": {},
   "outputs": [],
   "source": [
    "def get_split(dataset, measurement):\n",
    "    b_index, b_value, b_score, b_groups = 999, 999, 999, None\n",
    "    class_values = list(set(row[-1] for row in dataset))\n",
    "    features = list()\n",
    "    while len(features)<3:\n",
    "        index = randrange(len(dataset[0])-1)\n",
    "        if index not in features:\n",
    "            features.append(index)\n",
    "    for index in features:\n",
    "        for row in dataset:\n",
    "            groups = test_split(index, row[index], dataset)\n",
    "            if measurement == 1:\n",
    "                score = gini_index(groups, class_values)\n",
    "                #print('X%d < %.3f Gini=%.3f' % ((index+1), row[index], score))\n",
    "            else:\n",
    "                score = entropy_index(groups, class_values)\n",
    "                #print('X%d < %.3f Entropy=%.3f' % ((index+1), row[index], score))\n",
    "            if score < b_score:\n",
    "                     b_score, b_index, b_value, b_groups = score, index, row[index], groups\n",
    "    return {'gini':b_score, 'index':b_index, 'value':b_value, 'groups':b_groups}"
   ]
  },
  {
   "cell_type": "code",
   "execution_count": null,
   "metadata": {},
   "outputs": [],
   "source": [
    "def terminal_outcome(node):\n",
    "    outcomes = [row[-1] for row in node]\n",
    "    return max(set(outcomes), key = outcomes.count)"
   ]
  },
  {
   "cell_type": "code",
   "execution_count": null,
   "metadata": {},
   "outputs": [],
   "source": [
    "def split(max_depth, min_size, node, depth, measurement):\n",
    "    left, right = node['groups']\n",
    "    del node['groups']\n",
    "    if not left or not right:\n",
    "        node['left'] = node['right'] =  terminal_outcome(right + left)\n",
    "        return\n",
    "    if depth >= max_depth:\n",
    "        node['left'], node['right'] = terminal_outcome(left), terminal_outcome(right)\n",
    "        return\n",
    "    if len(left) <= min_size:\n",
    "        node['left'] = terminal_outcome(left)\n",
    "    else:\n",
    "        node['left'] = get_split(left, measurement)\n",
    "        split(max_depth, min_size, node['left'], depth+1, measurement)\n",
    "    if len(right) <= min_size:\n",
    "        node['right'] = terminal_outcome(right)\n",
    "    else:\n",
    "        node['right'] = get_split(right, measurement)\n",
    "        split(max_depth, min_size, node['right'], depth+1, measurement)    "
   ]
  },
  {
   "cell_type": "code",
   "execution_count": null,
   "metadata": {},
   "outputs": [],
   "source": [
    "def build_tree(max_depth, min_size, measurement, dataset):\n",
    "    root = get_split(dataset,measurement)\n",
    "    split(max_depth, min_size, root, 1, measurement)\n",
    "    return root"
   ]
  },
  {
   "cell_type": "code",
   "execution_count": null,
   "metadata": {},
   "outputs": [],
   "source": [
    "def print_tree(node, depth = 0):\n",
    "    if isinstance(node, dict):\n",
    "        print('%sX%d < %.3f' % (depth*' ', node['index']+1, node['value']))\n",
    "        print_tree(node['left'], depth+1)\n",
    "        print_tree(node['right'], depth+1)\n",
    "    else:\n",
    "        print('%s%d' % (depth*' ', node))"
   ]
  },
  {
   "cell_type": "code",
   "execution_count": null,
   "metadata": {},
   "outputs": [],
   "source": [
    "def predict(node, row):\n",
    "    if row[node['index']] < node['value']:\n",
    "        if isinstance(node['left'], dict):\n",
    "            return predict(node['left'], row)\n",
    "        else:\n",
    "            return node['left']\n",
    "    else:\n",
    "        if isinstance(node['right'], dict):\n",
    "            return predict(node['right'], row)\n",
    "        else:\n",
    "            return node['right']"
   ]
  },
  {
   "cell_type": "code",
   "execution_count": null,
   "metadata": {},
   "outputs": [],
   "source": [
    "def prediction(tree,test_data):\n",
    "    predictions = list()\n",
    "    for row in test_data:\n",
    "        prediction = predict(tree, row)\n",
    "        predictions.append(prediction)\n",
    "    return predictions"
   ]
  },
  {
   "cell_type": "code",
   "execution_count": null,
   "metadata": {},
   "outputs": [],
   "source": [
    "def accuracy(actual, predict):\n",
    "    correct = 0.0\n",
    "    for row in range(len(predict)):\n",
    "        if actual[row] == predict[row]:\n",
    "            correct += 1\n",
    "    return float(correct)/len(predict) * 100"
   ]
  },
  {
   "cell_type": "code",
   "execution_count": null,
   "metadata": {},
   "outputs": [],
   "source": [
    "def decision_tree(train_data,test_data, max_depth, min_size, measurement):\n",
    "    actual_train = list()\n",
    "    actual_test = list()\n",
    "    tree = build_tree(max_depth, min_size, measurement,train_data)\n",
    "    print_tree(tree)\n",
    "    predictions_train = prediction(tree,train_data)\n",
    "    predictions_test = prediction(tree,test_data)\n",
    "    for row in train_data:\n",
    "        actual_train.append(row[-1])\n",
    "    for row in test_data:\n",
    "        actual_test.append(row[-1])\n",
    "    accuracy_train = accuracy(actual_train, predictions_train)\n",
    "    accuracy_test = accuracy(actual_test, predictions_test)\n",
    "    return accuracy_train, accuracy_test, tree"
   ]
  },
  {
   "cell_type": "code",
   "execution_count": null,
   "metadata": {},
   "outputs": [],
   "source": [
    "Xtrain = P.T\n",
    "C = train_data[3133:4177] - M\n",
    "P = vectors[0:3].dot(C.T)\n",
    "Xtest = P.T\n",
    "Ytrain = Ytrain_data[0:3133]\n",
    "Ytest = Ytrain_data[3133:4177]"
   ]
  },
  {
   "cell_type": "code",
   "execution_count": null,
   "metadata": {},
   "outputs": [],
   "source": [
    "len(Xtrain)"
   ]
  },
  {
   "cell_type": "code",
   "execution_count": null,
   "metadata": {},
   "outputs": [],
   "source": [
    "Ytrain = Ytrain.values\n",
    "Xtrain_my = np.column_stack((Xtrain, Ytrain))\n",
    "Ytest = Ytest.values\n",
    "Xtest_my = np.column_stack((Xtest, Ytest))"
   ]
  },
  {
   "cell_type": "code",
   "execution_count": null,
   "metadata": {},
   "outputs": [],
   "source": [
    "accuracy_train, accuracy_test, tree = decision_tree(Xtrain_my, Xtest_my, 4, 2, 1)"
   ]
  },
  {
   "cell_type": "code",
   "execution_count": null,
   "metadata": {},
   "outputs": [],
   "source": [
    "p = np.arange(0., 1., 0.01)\n",
    "y = 2*p*(1-p)\n",
    "yy = (-p*np.log(p)-(1-p)*np.log(1-p))*0.7246\n",
    "pl.plot(p,y,p,yy)\n",
    "pl.text(0.8, 0.2, 'Gini')\n",
    "pl.text(0.8, 0.4, 'Entropy')\n",
    "pl.title('Node impurity measurements for two-class classification')\n",
    "pl.show()"
   ]
  },
  {
   "cell_type": "code",
   "execution_count": null,
   "metadata": {},
   "outputs": [],
   "source": [
    "def subsample(dataset, ratio):\n",
    "    sample = list()\n",
    "    total = round(ratio * len(dataset))\n",
    "    while len(sample) < total:\n",
    "        index = randrange(len(dataset))\n",
    "        sample.append(dataset[index])\n",
    "    return sample"
   ]
  },
  {
   "cell_type": "code",
   "execution_count": null,
   "metadata": {},
   "outputs": [],
   "source": [
    "def bagging_predict(trees, row):\n",
    "    predictions = [predict(tree, row) for tree in trees]\n",
    "    return max(set(predictions), key = predictions.count)"
   ]
  },
  {
   "cell_type": "code",
   "execution_count": null,
   "metadata": {},
   "outputs": [],
   "source": [
    "def bagged_tree(train, test, ntrees, max_depth, min_size, measurement):\n",
    "    trees = list()\n",
    "    for n in range(ntrees):\n",
    "        sample = subsample(train, 1)\n",
    "        tree = build_tree(max_depth, min_size, measurement, sample)\n",
    "        trees.append(tree)\n",
    "    predictions = [bagging_predict(trees, row) for row in test]\n",
    "    return predictions"
   ]
  },
  {
   "cell_type": "code",
   "execution_count": null,
   "metadata": {},
   "outputs": [],
   "source": [
    "def cross_validation_split(dataset, n_folds):\n",
    "    dataset_split = list()\n",
    "    dataset_copy = list(dataset)\n",
    "    size = int(len(dataset)/n_folds)\n",
    "    for i in range(n_folds):\n",
    "        fold = list()\n",
    "        while len(fold) <  size:\n",
    "            index = randrange(len(dataset_copy))\n",
    "            fold.append(dataset_copy.pop(index))\n",
    "        dataset_split.append(fold)\n",
    "    return dataset_split"
   ]
  },
  {
   "cell_type": "code",
   "execution_count": null,
   "metadata": {},
   "outputs": [],
   "source": [
    "def evaluate_cv(dataset, n_folds, *args):\n",
    "    folds = cross_validation_split(dataset, n_folds)\n",
    "    scores = list()\n",
    "    for fold in folds:\n",
    "        train_set = list(folds)\n",
    "        train_set.remove(fold)\n",
    "        train_set = sum(train_set,[])\n",
    "        test_set = list()\n",
    "        for row in fold:\n",
    "            row_copy = list(row)\n",
    "            #row_copy[-1] = None\n",
    "            test_set.append(row_copy)\n",
    "        actual = [row[-1] for row in fold]\n",
    "        predictions = bagged_tree(train_set, test_set, *args)\n",
    "        accuracy_test = accuracy(actual, predictions)\n",
    "        scores.append(accuracy_test)\n",
    "    return scores"
   ]
  },
  {
   "cell_type": "code",
   "execution_count": null,
   "metadata": {},
   "outputs": [],
   "source": [
    "def evaluate(trainset, testset, *args):\n",
    "    train_set = list()\n",
    "    test_set = list()\n",
    "    scores = list()\n",
    "    for row in trainset:\n",
    "        row_copy = list(row)\n",
    "        #row_copy[-1] = None\n",
    "        train_set.append(row_copy)\n",
    "    for row in testset:\n",
    "        row_copy = list(row)\n",
    "        #row_copy[-1] = None\n",
    "        test_set.append(row_copy)\n",
    "    actual = [row[-1] for row in testset]\n",
    "    predictions = bagged_tree(train_set, test_set, *args)\n",
    "    accuracy_test = accuracy(actual, predictions)\n",
    "        #scores.append(accuracy_test)\n",
    "    return accuracy_test"
   ]
  },
  {
   "cell_type": "code",
   "execution_count": null,
   "metadata": {},
   "outputs": [],
   "source": [
    "train_data_my = np.column_stack((train_data.values, Ytrain_data.values))"
   ]
  },
  {
   "cell_type": "code",
   "execution_count": null,
   "metadata": {},
   "outputs": [],
   "source": [
    "for n in [1,5,10]:\n",
    "scores = evaluate(Xtrain_my.tolist(), Xtest_my.tolist(), n, 4,2,1)\n",
    "print('Accuracy: %f' % scores)\n",
    "    #print('Mean Accuracy: %.3f%%' % (sum(scores)/float(len(scores))))"
   ]
  },
  {
   "cell_type": "markdown",
   "metadata": {},
   "source": [
    "# Regression"
   ]
  },
  {
   "cell_type": "code",
   "execution_count": null,
   "metadata": {},
   "outputs": [],
   "source": [
    "train_data = train_data.drop('Sex', axis = 1)\n",
    "Ytrain_data = train_data['Age'][0:3133]\n",
    "Ytest_data = train_data['Age'][3133:4177]\n",
    "train_data = train_data.drop('Age', axis = 1)\n",
    "train_data = train_data.drop('Rings', axis = 1)\n",
    "Xtrain_data = train_data[0:3133]\n",
    "Xtest_data = train_data[3133:4177]"
   ]
  },
  {
   "cell_type": "code",
   "execution_count": null,
   "metadata": {},
   "outputs": [],
   "source": [
    "len(Xtest)"
   ]
  },
  {
   "cell_type": "code",
   "execution_count": null,
   "metadata": {},
   "outputs": [],
   "source": [
    "regr = DecisionTreeRegressor(max_depth=4)\n",
    "regr.fit(Xtrain, Ytrain)\n",
    "predict = regr.predict(Xtest)"
   ]
  },
  {
   "cell_type": "code",
   "execution_count": null,
   "metadata": {},
   "outputs": [],
   "source": [
    "absmin = min([Ytest.min(),predict.min()])\n",
    "absmax = max([Ytest.max(),predict.max()])\n",
    "ax = pl.axes()\n",
    "ax.scatter(Ytest,predict)\n",
    "ax.set_title('Y vs. YHat Regression tree')\n",
    "ax.axis([absmin, absmax, absmin, absmax])\n",
    "ax.plot([absmin, absmax], [absmin, absmax],c=\"k\")\n",
    "mae = mean_absolute_error(Ytest_data, predict)\n",
    "props = dict(boxstyle='round', facecolor='wheat', alpha=0.5)\n",
    "textStr = 'MAE=%.3f' % mae\n",
    "ax.text(0.05, 0.95, textStr, transform=ax.transAxes, fontsize=14, verticalalignment='top', bbox=props)\n"
   ]
  },
  {
   "cell_type": "code",
   "execution_count": null,
   "metadata": {},
   "outputs": [],
   "source": [
    "lasso_model = linear_model.LassoCV(cv=5).fit(Xtrain, Ytrain)\n",
    "ypred2 = lasso_model.predict(Xtest)"
   ]
  },
  {
   "cell_type": "code",
   "execution_count": null,
   "metadata": {},
   "outputs": [],
   "source": [
    "absmin = min([Ytest.min(),ypred2.min()])\n",
    "absmax = max([Ytest.max(),ypred2.max()])\n",
    "ax = pl.axes()\n",
    "ax.scatter(Ytest_data,ypred2)\n",
    "ax.set_title('Y vs. YHat Lasso(CV=5)')\n",
    "ax.axis([absmin, absmax, absmin, absmax])\n",
    "ax.plot([absmin, absmax], [absmin, absmax],c=\"k\")\n",
    "mae = mean_absolute_error(Ytest_data, ypred2)\n",
    "props = dict(boxstyle='round', facecolor='wheat', alpha=0.5)\n",
    "textStr = 'MAE=%.3f' % mae\n",
    "ax.text(0.05, 0.95, textStr, transform=ax.transAxes, fontsize=14, verticalalignment='top', bbox=props)\n",
    "\n"
   ]
  }
 ],
 "metadata": {
  "kernelspec": {
   "display_name": "Python 2",
   "language": "python",
   "name": "python2"
  },
  "language_info": {
   "codemirror_mode": {
    "name": "ipython",
    "version": 2
   },
   "file_extension": ".py",
   "mimetype": "text/x-python",
   "name": "python",
   "nbconvert_exporter": "python",
   "pygments_lexer": "ipython2",
   "version": "2.7.15"
  }
 },
 "nbformat": 4,
 "nbformat_minor": 2
}
