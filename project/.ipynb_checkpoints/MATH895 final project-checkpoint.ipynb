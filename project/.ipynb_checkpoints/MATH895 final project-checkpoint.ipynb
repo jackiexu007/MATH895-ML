{
 "cells": [
  {
   "cell_type": "code",
   "execution_count": 170,
   "metadata": {},
   "outputs": [],
   "source": [
    "import numpy as np\n",
    "import pandas as pd\n",
    "import matplotlib.pyplot as pl\n",
    "from sklearn import tree\n",
    "import pydot\n",
    "from sklearn.metrics import accuracy_score"
   ]
  },
  {
   "cell_type": "code",
   "execution_count": 171,
   "metadata": {},
   "outputs": [],
   "source": [
    "from sklearn.preprocessing import LabelEncoder\n",
    "from sklearn.linear_model import LogisticRegression\n",
    "from sklearn.metrics import accuracy_score"
   ]
  },
  {
   "cell_type": "code",
   "execution_count": 172,
   "metadata": {},
   "outputs": [],
   "source": [
    "train_data = pd.read_csv(\"/Users/qinghongxu/Documents/MATH895/project/abalone.data.txt\",\n",
    "                          delimiter=',' )"
   ]
  },
  {
   "cell_type": "code",
   "execution_count": 173,
   "metadata": {},
   "outputs": [],
   "source": [
    "train_data['Sex'] = LabelEncoder().fit_transform(train_data['Sex'].tolist())"
   ]
  },
  {
   "cell_type": "code",
   "execution_count": 174,
   "metadata": {},
   "outputs": [],
   "source": [
    "train_data.head()\n",
    "Xtrain = train_data[0:3133]\n",
    "Xtest = train_data[3133:4177]\n",
    "Xtrain = Xtrain.values.tolist()\n",
    "Xtest = Xtest.values.tolist()"
   ]
  },
  {
   "cell_type": "code",
   "execution_count": 175,
   "metadata": {},
   "outputs": [],
   "source": [
    "def gini_index(groups, classes):\n",
    "    all_samples = float(sum(len(group) for group in groups))\n",
    "    gini = 0.0\n",
    "    for group in groups:\n",
    "        size = float(len(group))\n",
    "        probability = 0.0\n",
    "        if size == 0:\n",
    "            continue\n",
    "        for class_index in classes:\n",
    "            p = [row[-1] for row in group].count(class_index) / size          \n",
    "            probability += p * p\n",
    "        gini += (1 - probability)* size/all_samples\n",
    "    return gini"
   ]
  },
  {
   "cell_type": "code",
   "execution_count": 176,
   "metadata": {},
   "outputs": [],
   "source": [
    "def entropy_index(groups, classes):\n",
    "    all_samples = float(sum(len(group) for group in groups))\n",
    "    entropy = 0.0\n",
    "    for group in groups:\n",
    "        size = float(len(group))\n",
    "        probability = 0.0\n",
    "        if size == 0:\n",
    "            continue\n",
    "        for class_index in classes:\n",
    "            p = [row[-1] for row in group].count(class_index) / size          \n",
    "            probability += p * np.log(p)\n",
    "        entropy -=  probability * size/all_samples\n",
    "    return entropy"
   ]
  },
  {
   "cell_type": "code",
   "execution_count": 177,
   "metadata": {},
   "outputs": [],
   "source": [
    "def test_split(index, value, dataset):\n",
    "    left, right = list(), list()\n",
    "    for row in dataset:\n",
    "        if row[index] < value:\n",
    "            left.append(row)\n",
    "        else:\n",
    "            right.append(row)\n",
    "    return left, right            "
   ]
  },
  {
   "cell_type": "code",
   "execution_count": 178,
   "metadata": {},
   "outputs": [],
   "source": [
    "def get_split(dataset, measurement):\n",
    "    b_index, b_value, b_score, b_groups = 999, 999, 999, None\n",
    "    class_values = list(set(row[-1] for row in dataset))\n",
    "    for index in range(len(dataset[0])-1):\n",
    "        for row in dataset:\n",
    "            groups = test_split(index, row[index], dataset)\n",
    "            if measurement == 1:\n",
    "                score = gini_index(groups, class_values)\n",
    "                #print('X%d < %.3f Gini=%.3f' % ((index+1), row[index], score))\n",
    "            else:\n",
    "                score = entropy_index(groups, class_values)\n",
    "                #print('X%d < %.3f Entropy=%.3f' % ((index+1), row[index], score))\n",
    "            if score < b_score:\n",
    "                     b_score, b_index, b_value, b_groups = score, index, row[index], groups\n",
    "    return {'gini':b_score, 'index':b_index, 'value':b_value, 'groups':b_groups}"
   ]
  },
  {
   "cell_type": "code",
   "execution_count": 179,
   "metadata": {},
   "outputs": [],
   "source": [
    "def terminal_outcome(node):\n",
    "    outcomes = [row[-1] for row in node]\n",
    "    return max(set(outcomes), key = outcomes.count)"
   ]
  },
  {
   "cell_type": "code",
   "execution_count": 180,
   "metadata": {},
   "outputs": [],
   "source": [
    "def split(max_depth, min_size, node, depth, measurement):\n",
    "    left, right = node['groups']\n",
    "    del node['groups']\n",
    "    if not left or not right:\n",
    "        node['left'] = node['right'] =  terminal_outcome(right + left)\n",
    "        return\n",
    "    if depth >= max_depth:\n",
    "        node['left'], node['right'] = terminal_outcome(left), terminal_outcome(right)\n",
    "        return\n",
    "    if len(left) <= min_size:\n",
    "        node['left'] = terminal_outcome(left)\n",
    "    else:\n",
    "        node['left'] = get_split(left, measurement)\n",
    "        split(max_depth, min_size, node['left'], depth+1, measurement)\n",
    "    if len(right) <= min_size:\n",
    "        node['right'] = terminal_outcome(right)\n",
    "    else:\n",
    "        node['right'] = get_split(right, measurement)\n",
    "        split(max_depth, min_size, node['right'], depth+1, measurement)    "
   ]
  },
  {
   "cell_type": "code",
   "execution_count": 181,
   "metadata": {},
   "outputs": [],
   "source": [
    "def build_tree(max_depth, min_size, measurement, dataset):\n",
    "    root = get_split(dataset,measurement)\n",
    "    split(max_depth, min_size, root, 1, measurement)\n",
    "    return root"
   ]
  },
  {
   "cell_type": "code",
   "execution_count": 182,
   "metadata": {},
   "outputs": [],
   "source": [
    "def print_tree(node, depth = 0):\n",
    "    if isinstance(node, dict):\n",
    "        print('%sX%d < %.3f' % (depth*' ', node['index'], node['value']))\n",
    "        print_tree(node['left'], depth+1)\n",
    "        print_tree(node['right'], depth+1)\n",
    "    else:\n",
    "        print('%s%d' % (depth*' ', node))"
   ]
  },
  {
   "cell_type": "code",
   "execution_count": 183,
   "metadata": {},
   "outputs": [],
   "source": [
    "def predict(node, row):\n",
    "    if row[node['index']] < node['value']:\n",
    "        if isinstance(node['left'], dict):\n",
    "            return predict(node['left'], row)\n",
    "        else:\n",
    "            return node['left']\n",
    "    else:\n",
    "        if isinstance(node['right'], dict):\n",
    "            return predict(node['right'], row)\n",
    "        else:\n",
    "            return node['right']"
   ]
  },
  {
   "cell_type": "code",
   "execution_count": 184,
   "metadata": {},
   "outputs": [],
   "source": [
    "def prediction(tree,test_data):\n",
    "    predictions = list()\n",
    "    for row in test_data:\n",
    "        prediction = predict(tree, row)\n",
    "        predictions.append(prediction)\n",
    "    return predictions"
   ]
  },
  {
   "cell_type": "code",
   "execution_count": 185,
   "metadata": {},
   "outputs": [],
   "source": [
    "def accuracy(actual, predict):\n",
    "    correct = 0.0\n",
    "    for row in range(len(predict)):\n",
    "        if actual[row] == predict[row]:\n",
    "            correct += 1\n",
    "    return float(correct)/len(predict) * 100"
   ]
  },
  {
   "cell_type": "code",
   "execution_count": 186,
   "metadata": {},
   "outputs": [],
   "source": [
    "def decision_tree(train_data,test_data, max_depth, min_size,measurement):\n",
    "    actual_train = list()\n",
    "    actual_test = list()\n",
    "    tree = build_tree(max_depth, min_size, measurement,test_data)\n",
    "    print_tree(tree)\n",
    "    predictions_train = prediction(tree,train_data)\n",
    "    predictions_test = prediction(tree,test_data)\n",
    "    for row in train_data:\n",
    "        actual_train.append(row[-1])\n",
    "    for row in test_data:\n",
    "        actual_test.append(row[-1])\n",
    "    accuracy_train = accuracy(actual_train, predictions_train)\n",
    "    accuracy_test = accuracy(actual_test, predictions_test)\n",
    "    return accuracy_train, accuracy_test, tree"
   ]
  },
  {
   "cell_type": "code",
   "execution_count": 169,
   "metadata": {},
   "outputs": [
    {
     "data": {
      "text/plain": [
       "0.14"
      ]
     },
     "execution_count": 169,
     "metadata": {},
     "output_type": "execute_result"
    }
   ],
   "source": [
    "model = tree.DecisionTreeClassifier(max_depth=3, min_samples_split=2)\n",
    "model.fit(Xtrain, Ytrain)\n",
    "y_predict = model.predict(Xtest)\n",
    "accuracy_score(Ytest, y_predict)"
   ]
  },
  {
   "cell_type": "code",
   "execution_count": 168,
   "metadata": {},
   "outputs": [],
   "source": [
    "Xtrain = train_data.drop(['Rings'], axis = 1)[1:50]\n",
    "Xtest = train_data.drop(['Rings'], axis = 1)[50:100]\n",
    "Ytrain = train_data['Rings'][1:50]\n",
    "Ytest = train_data['Rings'][50:100]"
   ]
  },
  {
   "cell_type": "code",
   "execution_count": null,
   "metadata": {},
   "outputs": [],
   "source": []
  }
 ],
 "metadata": {
  "kernelspec": {
   "display_name": "Python 2",
   "language": "python",
   "name": "python2"
  },
  "language_info": {
   "codemirror_mode": {
    "name": "ipython",
    "version": 2
   },
   "file_extension": ".py",
   "mimetype": "text/x-python",
   "name": "python",
   "nbconvert_exporter": "python",
   "pygments_lexer": "ipython2",
   "version": "2.7.15"
  }
 },
 "nbformat": 4,
 "nbformat_minor": 2
}
