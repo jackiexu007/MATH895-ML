{
 "cells": [
  {
   "cell_type": "code",
   "execution_count": null,
   "metadata": {},
   "outputs": [],
   "source": [
    "import numpy as np\n",
    "import matplotlib.pyplot as pl\n",
    "from numpy import linalg as LA\n",
    "from operator import itemgetter\n",
    "from sklearn import linear_model,datasets\n",
    "from sklearn.model_selection import cross_val_score\n",
    "from sklearn.feature_selection import SelectKBest,f_classif"
   ]
  },
  {
   "cell_type": "code",
   "execution_count": null,
   "metadata": {},
   "outputs": [],
   "source": [
    "train_data = np.loadtxt(\"/Users/qinghongxu/Documents/MATH895/HW2/spam.data.txt\",\n",
    "                        delimiter=' ')"
   ]
  },
  {
   "cell_type": "code",
   "execution_count": null,
   "metadata": {},
   "outputs": [],
   "source": [
    "from sklearn.model_selection import KFold # import KFold\n",
    "X = np.array(train_data[:,0:56]) # create an array\n",
    "y = np.array(train_data[:,57]) # Create another array\n",
    "kf = KFold(n_splits=10, random_state=None, shuffle=True) \n",
    "# Define the split - into 10 folds "
   ]
  },
  {
   "cell_type": "code",
   "execution_count": null,
   "metadata": {},
   "outputs": [],
   "source": [
    "# Linear Regrssion\n",
    "residual_list = []\n",
    "for train_index, test_index in kf.split(X):\n",
    "    X_train, X_test = X[train_index], X[test_index]\n",
    "    y_train, y_test = y[train_index], y[test_index]\n",
    "    lm = linear_model.LinearRegression()\n",
    "    lm.fit(X_train, y_train)\n",
    "    predictions = lm.predict(X_test)\n",
    "    residual = float(1)/ y_test.shape[0] * np.sum(np.power(predictions - y_test,2))\n",
    "    residual_list = np.append(residual,residual_list)\n",
    "accuracy = float(1)/10*np.sum(residual_list) #CV error\n",
    "std = np.sqrt(float(1)/9*np.var(residual_list - accuracy)) #Std error\n",
    "#print(accuracy)\n",
    "#print(std)"
   ]
  },
  {
   "cell_type": "code",
   "execution_count": null,
   "metadata": {},
   "outputs": [],
   "source": [
    "# Ridge regression\n",
    "accuracy_all_rr = []\n",
    "std_all_rr = []\n",
    "coerr = np.linspace(0,10,15)\n",
    "for alpha in coerr:\n",
    "    residual_list = []\n",
    "    for train_index, test_index in kf.split(X):\n",
    "        X_train, X_test = X[train_index], X[test_index]\n",
    "        y_train, y_test = y[train_index], y[test_index]\n",
    "        reg = linear_model.Ridge(alpha)\n",
    "        reg.fit(X_train, y_train)\n",
    "        predictions = reg.predict(X_test)\n",
    "        residual = float(1)/ y_test.shape[0] * np.sum(np.power(predictions - y_test,2))\n",
    "        residual_list = np.append(residual,residual_list)\n",
    "    accuracy = float(1)/10 * np.sum(residual_list) #CV error\n",
    "    accuracy_all_rr = np.append(accuracy_all_rr,accuracy)\n",
    "    #std = np.sqrt(float(1)/9* np.sum(np.power(residual_list-accuracy,2)))\n",
    "    std = np.sqrt(float(1)/9* np.var(residual_list)) #Std error\n",
    "    std_all_rr = np.append(std_all_rr,std)\n",
    "print(accuracy_all_rr)\n",
    "print(std_all_rr)"
   ]
  },
  {
   "cell_type": "code",
   "execution_count": null,
   "metadata": {},
   "outputs": [],
   "source": [
    "# Lasso \n",
    "accuracy_all_lr = []\n",
    "std_all_lr = []\n",
    "coelr = np.linspace(0.0001,0.1,10)\n",
    "for alpha in coelr:\n",
    "    residual_list = []\n",
    "    for train_index, test_index in kf.split(X):\n",
    "        X_train, X_test = X[train_index], X[test_index]\n",
    "        y_train, y_test = y[train_index], y[test_index]\n",
    "        reg = linear_model.Lasso(alpha)\n",
    "        reg.fit(X_train, y_train)\n",
    "        predictions = reg.predict(X_test)\n",
    "        residual = float(1)/ y_test.shape[0] * np.sum(np.power(predictions - y_test,2))\n",
    "        residual_list = np.append(residual,residual_list)\n",
    "    accuracy = float(1)/10 * np.sum(residual_list) #CV error\n",
    "    accuracy_all_lr = np.append(accuracy_all_lr,accuracy)\n",
    "    #std = np.sqrt(float(1)/9* np.sum(np.power(residual_list-accuracy,2)))\n",
    "    std = np.sqrt(float(1)/9* np.var(residual_list)) #Std error\n",
    "    std_all_lr = np.append(std_all_lr,std)\n",
    "print(accuracy_all_lr)\n",
    "print(std_all_lr)"
   ]
  },
  {
   "cell_type": "code",
   "execution_count": null,
   "metadata": {},
   "outputs": [],
   "source": [
    "# Forward stepwise selection\n",
    "accuracy_all_fs = []\n",
    "std_all_fs = []\n",
    "subset = [1,5,10,15,20,25,30,35,40,45,50]\n",
    "for k in subset:\n",
    "    residual_list = []\n",
    "    for train_index, test_index in kf.split(X):\n",
    "        X_train, X_test = X[train_index], X[test_index]\n",
    "        y_train, y_test = y[train_index], y[test_index]       \n",
    "        index = SelectKBest(f_classif, k).fit(X_train, y_train).get_support(indices=True)\n",
    "        X_train_new = X_train[:,index]    \n",
    "        X_test_new = X_test[:,index]    \n",
    "        lm = linear_model.LinearRegression()\n",
    "        lm.fit(X_train_new, y_train)\n",
    "        predictions = lm.predict(X_test_new)        \n",
    "        residual = float(1)/ y_test.shape[0] * np.sum(np.power(predictions\n",
    "                                                               - y_test,2))\n",
    "        residual_list = np.append(residual,residual_list)\n",
    "    accuracy = float(1)/10 * np.sum(residual_list) #CV error\n",
    "    accuracy_all_fs = np.append(accuracy_all_fs,accuracy)\n",
    "    #std = np.sqrt(float(1)/9* np.sum(np.power(residual_list-accuracy,2)))\n",
    "    std = np.sqrt(float(1)/9* np.var(residual_list)) #Std error\n",
    "    std_all_fs = np.append(std_all_fs,std)\n",
    "print(accuracy_all_fs)\n",
    "print(std_all_fs)"
   ]
  },
  {
   "cell_type": "code",
   "execution_count": null,
   "metadata": {},
   "outputs": [],
   "source": [
    "pl.errorbar(coerr, accuracy_all_rr, std_all_rr, fmt='o')\n",
    "pl.errorbar(10, accuracy,std, fmt='+')\n",
    "pl.xlabel('alpha')\n",
    "pl.ylabel('CV error')\n",
    "pl.title('Linear regression and ridge regression')\n",
    "pl.legend([\"CV/Std error for ridge regression\",\n",
    "           \"CV/Std error for linear regression\"],\n",
    "          loc=\"upper left\", bbox_to_anchor=(0, -0.2))\n",
    "pl.grid()\n",
    "pl.show()"
   ]
  },
  {
   "cell_type": "code",
   "execution_count": null,
   "metadata": {},
   "outputs": [],
   "source": [
    "a = np.argmin(accuracy_all_fs)\n",
    "y = accuracy_all_fs[a] + std_all_fs[a]\n",
    "b = [0] * len(subset)\n",
    "y = b + y\n",
    "pl.plot(subset,y,'--')\n",
    "xx = [30] * 2\n",
    "yy = np.linspace(0.1,0.22,2)\n",
    "pl.plot(xx,yy,'--')\n",
    "pl.errorbar(subset, accuracy_all_fs, std_all_fs, fmt='-o')\n",
    "pl.xlabel('subset k')\n",
    "pl.ylabel('CV error')\n",
    "pl.title('Forward stepwise selection')\n",
    "pl.grid()\n",
    "pl.show()"
   ]
  },
  {
   "cell_type": "code",
   "execution_count": null,
   "metadata": {
    "scrolled": true
   },
   "outputs": [],
   "source": [
    "pl.errorbar(coelr, accuracy_all_lr, std_all_lr, fmt='o')\n",
    "pl.xlabel('alpha')\n",
    "pl.ylabel('CV error')\n",
    "pl.title('Lasso')\n",
    "pl.legend([\"CV/Std error for Lasso\"]\n",
    "          , loc=\"upper left\", bbox_to_anchor=(0, -0.2))\n",
    "pl.grid()\n",
    "pl.show()"
   ]
  },
  {
   "cell_type": "code",
   "execution_count": null,
   "metadata": {},
   "outputs": [],
   "source": []
  }
 ],
 "metadata": {
  "kernelspec": {
   "display_name": "Python 2",
   "language": "python",
   "name": "python2"
  },
  "language_info": {
   "codemirror_mode": {
    "name": "ipython",
    "version": 2
   },
   "file_extension": ".py",
   "mimetype": "text/x-python",
   "name": "python",
   "nbconvert_exporter": "python",
   "pygments_lexer": "ipython2",
   "version": "2.7.15"
  }
 },
 "nbformat": 4,
 "nbformat_minor": 2
}
