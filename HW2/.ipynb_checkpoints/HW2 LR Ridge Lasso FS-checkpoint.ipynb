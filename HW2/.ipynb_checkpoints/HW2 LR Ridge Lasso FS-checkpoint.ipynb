{
 "cells": [
  {
   "cell_type": "code",
   "execution_count": 370,
   "metadata": {},
   "outputs": [],
   "source": [
    "import numpy as np\n",
    "import matplotlib.pyplot as pl\n",
    "from numpy import linalg as LA\n",
    "from operator import itemgetter\n",
    "from sklearn import linear_model,datasets\n",
    "from sklearn.model_selection import cross_val_score\n",
    "from sklearn.feature_selection import SelectKBest,f_classif"
   ]
  },
  {
   "cell_type": "code",
   "execution_count": 371,
   "metadata": {},
   "outputs": [],
   "source": [
    "train_data = np.loadtxt(\"/Users/qinghongxu/Documents/MATH895/HW2/spam.data.txt\",delimiter=' ')"
   ]
  },
  {
   "cell_type": "code",
   "execution_count": 372,
   "metadata": {},
   "outputs": [],
   "source": [
    "from sklearn.model_selection import KFold # import KFold\n",
    "X = np.array(train_data[:,0:56]) # create an array\n",
    "y = np.array(train_data[:,57]) # Create another array\n",
    "kf = KFold(n_splits=10, random_state=None, shuffle=True) # Define the split - into 10 folds "
   ]
  },
  {
   "cell_type": "code",
   "execution_count": 445,
   "metadata": {},
   "outputs": [
    {
     "name": "stdout",
     "output_type": "stream",
     "text": [
      "0.11508541830731872\n",
      "0.003415542355580298\n"
     ]
    }
   ],
   "source": [
    "# Linear Regrssion\n",
    "residual_list = []\n",
    "for train_index, test_index in kf.split(X):\n",
    "    X_train, X_test = X[train_index], X[test_index]\n",
    "    y_train, y_test = y[train_index], y[test_index]\n",
    "    lm = linear_model.LinearRegression()\n",
    "    lm.fit(X_train, y_train)\n",
    "    predictions = lm.predict(X_test)\n",
    "    residual = float(1)/ y_test.shape[0] * np.sum(np.power(predictions - y_test,2))\n",
    "    residual_list = np.append(residual,residual_list)\n",
    "accuracy = float(1)/10*np.sum(residual_list) #CV error\n",
    "std = np.sqrt(float(1)/9*np.var(residual_list - accuracy)) #Std error\n",
    "#print(accuracy)\n",
    "#print(std)"
   ]
  },
  {
   "cell_type": "code",
   "execution_count": 438,
   "metadata": {},
   "outputs": [
    {
     "name": "stdout",
     "output_type": "stream",
     "text": [
      "[0.11734591 0.1141728  0.11684422 0.11562804 0.11717402 0.11634942\n",
      " 0.11563243 0.11475755 0.11481287 0.11512663 0.1152467  0.11455779\n",
      " 0.11427484 0.11473424 0.11630837]\n",
      "[0.00639949 0.00308386 0.00512955 0.00523959 0.00682115 0.00548542\n",
      " 0.00378446 0.00361458 0.00424282 0.0052165  0.00540972 0.00660635\n",
      " 0.00588236 0.004123   0.00533844]\n"
     ]
    }
   ],
   "source": [
    "# Ridge regression\n",
    "accuracy_all_rr = []\n",
    "std_all_rr = []\n",
    "coerr = np.linspace(1,60,15)\n",
    "for alpha in coerr:\n",
    "    residual_list = []\n",
    "    for train_index, test_index in kf.split(X):\n",
    "        X_train, X_test = X[train_index], X[test_index]\n",
    "        y_train, y_test = y[train_index], y[test_index]\n",
    "        reg = linear_model.Ridge(alpha)\n",
    "        reg.fit(X_train, y_train)\n",
    "        predictions = reg.predict(X_test)\n",
    "        residual = float(1)/ y_test.shape[0] * np.sum(np.power(predictions - y_test,2))\n",
    "        residual_list = np.append(residual,residual_list)\n",
    "    accuracy = float(1)/10 * np.sum(residual_list) #CV error\n",
    "    accuracy_all_rr = np.append(accuracy_all_rr,accuracy)\n",
    "    std = np.sqrt(float(1)/9* np.var(residual_list)) #Std error\n",
    "    std_all_rr = np.append(std_all_rr,std)\n",
    "#print(accuracy_all_rr)\n",
    "#print(std_all_rr)"
   ]
  },
  {
   "cell_type": "code",
   "execution_count": 439,
   "metadata": {},
   "outputs": [
    {
     "name": "stdout",
     "output_type": "stream",
     "text": [
      "[0.24932102 0.23919275 0.23545667 0.23367811 0.23630749 0.23886652\n",
      " 0.23889437 0.23895373 0.2388977  0.23891573 0.2388766  0.23889347\n",
      " 0.23885466 0.23881146 0.23888097]\n",
      "[0.02534051 0.01313406 0.00605966 0.00187975 0.00209183 0.00139397\n",
      " 0.00161019 0.00199879 0.00164732 0.0017309  0.00146615 0.00161879\n",
      " 0.00132356 0.00090189 0.00150845]\n"
     ]
    }
   ],
   "source": [
    "# Lasso regression\n",
    "accuracy_all_lr = []\n",
    "std_all_lr = []\n",
    "coelr = np.linspace(1,60,15)\n",
    "for alpha in coelr:\n",
    "    residual_list = []\n",
    "    for train_index, test_index in kf.split(X):\n",
    "        X_train, X_test = X[train_index], X[test_index]\n",
    "        y_train, y_test = y[train_index], y[test_index]\n",
    "        reg = linear_model.Lasso(alpha)\n",
    "        reg.fit(X_train, y_train)\n",
    "        predictions = reg.predict(X_test)\n",
    "        residual = float(1)/ y_test.shape[0] * np.sum(np.power(predictions - y_test,2))\n",
    "        residual_list = np.append(residual,residual_list)\n",
    "    accuracy = float(1)/10 * np.sum(residual_list) #CV error\n",
    "    accuracy_all_lr = np.append(accuracy_all_lr,accuracy)\n",
    "    std = np.sqrt(float(1)/9* np.var(residual_list)) #Std error\n",
    "    std_all_lr = np.append(std_all_lr,std)\n",
    "#print(accuracy_all_lr)\n",
    "#print(std_all_lr)"
   ]
  },
  {
   "cell_type": "code",
   "execution_count": 382,
   "metadata": {},
   "outputs": [
    {
     "name": "stdout",
     "output_type": "stream",
     "text": [
      "[0.20406417 0.16956125 0.1758662  0.1666509  0.15066295 0.12910865\n",
      " 0.123027   0.1189127  0.12078739 0.11650624]\n",
      "[0.00351577 0.00459522 0.01138808 0.00791372 0.00929656 0.00444458\n",
      " 0.00559842 0.00464178 0.01069434 0.00486316]\n"
     ]
    }
   ],
   "source": [
    "# First step\n",
    "accuracy_all_fs = []\n",
    "std_all_fs = []\n",
    "subset = [1,3,5,7,10,20,30,40,50,56]\n",
    "for k in subset:\n",
    "    residual_list = []\n",
    "    for train_index, test_index in kf.split(X):\n",
    "        X_train, X_test = X[train_index], X[test_index]\n",
    "        y_train, y_test = y[train_index], y[test_index]       \n",
    "        index = SelectKBest(f_classif, k).fit(X_train, y_train).get_support(indices=True)\n",
    "        X_train_new = X_train[:,index]    \n",
    "        X_test_new = X_test[:,index]    \n",
    "        lm = linear_model.LinearRegression()\n",
    "        lm.fit(X_train_new, y_train)\n",
    "        predictions = lm.predict(X_test_new)        \n",
    "        residual = float(1)/ y_test.shape[0] * np.sum(np.power(predictions - y_test,2))\n",
    "        residual_list = np.append(residual,residual_list)\n",
    "    accuracy = float(1)/10 * np.sum(residual_list) #CV error\n",
    "    accuracy_all_fs = np.append(accuracy_all_fs,accuracy)\n",
    "    std = np.sqrt(float(1)/9* np.var(residual_list)) #Std error\n",
    "    std_all_fs = np.append(std_all_fs,std)\n",
    "#print(accuracy_all_fs)\n",
    "#print(std_all_fs)"
   ]
  },
  {
   "cell_type": "code",
   "execution_count": 455,
   "metadata": {},
   "outputs": [
    {
     "data": {
      "image/png": "[encoded data removed]",
      "text/plain": [
       "<Figure size 432x288 with 1 Axes>"
      ]
     },
     "metadata": {},
     "output_type": "display_data"
    }
   ],
   "source": [
    "pl.plot(subset,accuracy_all_fs,'ro', subset,std_all_fs, 'rs',coerr, accuracy_all_rr,'b+', coerr, std_all_rr,'b4',coelr, accuracy_all_lr,'b^', coelr, std_all_lr, 'b*',50, accuracy,'gd',50,std,'gx')\n",
    "pl.xlabel('subset k \\ alpha')\n",
    "pl.ylabel('error')\n",
    "pl.title('error plot for four models')\n",
    "pl.legend([\"CV error for forward stepwise selection\", \"Std error for forward stepwise selection\", \"CV error for ridge regression\", \"Std error for ridge regression\",\"CV error for lasso regression\", \"Std error for lasso regression\", \"CV error for linear regression\",\"Std error for linear regression\"],loc=\"upper left\", bbox_to_anchor=(0, -0.2))\n",
    "pl.grid()\n",
    "pl.show()"
   ]
  },
  {
   "cell_type": "code",
   "execution_count": null,
   "metadata": {},
   "outputs": [],
   "source": []
  }
 ],
 "metadata": {
  "kernelspec": {
   "display_name": "Python 2",
   "language": "python",
   "name": "python2"
  },
  "language_info": {
   "codemirror_mode": {
    "name": "ipython",
    "version": 2
   },
   "file_extension": ".py",
   "mimetype": "text/x-python",
   "name": "python",
   "nbconvert_exporter": "python",
   "pygments_lexer": "ipython2",
   "version": "2.7.15"
  }
 },
 "nbformat": 4,
 "nbformat_minor": 2
}
