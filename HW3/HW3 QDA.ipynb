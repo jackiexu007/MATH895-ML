{
 "cells": [
  {
   "cell_type": "code",
   "execution_count": 1,
   "metadata": {},
   "outputs": [],
   "source": [
    "import numpy as np\n",
    "import matplotlib.pyplot as pl\n",
    "from numpy import linalg as LA"
   ]
  },
  {
   "cell_type": "code",
   "execution_count": 2,
   "metadata": {},
   "outputs": [],
   "source": [
    "train_data = np.loadtxt(\"/Users/qinghongxu/Documents/MATH895/HW3/vowel.train.txt\",\n",
    "                          delimiter=',')\n",
    "test_data = np.loadtxt(\"/Users/qinghongxu/Documents/MATH895/HW3/vowel.test.txt\",\n",
    "                          delimiter=',')"
   ]
  },
  {
   "cell_type": "code",
   "execution_count": 3,
   "metadata": {},
   "outputs": [],
   "source": [
    "# Obtain train data ordered in class\n",
    "train_data_class = np.empty((1,12))\n",
    "size = np.empty(11,dtype=int)\n",
    "for i in range(1,12):\n",
    "    index = np.where(train_data[:,1]==i)\n",
    "    size[i-1] = index[0].shape[0]\n",
    "    train_data_class = np.append(train_data_class,train_data[index,:][0],axis=0)\n",
    "train_data_class = np.delete(train_data_class, 0, 0)"
   ]
  },
  {
   "cell_type": "code",
   "execution_count": 4,
   "metadata": {},
   "outputs": [],
   "source": [
    "# Obtain pi, mean\n",
    "pik = size/float(train_data.shape[0])\n",
    "muk = np.empty((11,10))\n",
    "for i in range(1,12):\n",
    "    muk[i-1,:] = np.mean(train_data_class[(i-1)*48:i*48,2:12],axis = 0)"
   ]
  },
  {
   "cell_type": "code",
   "execution_count": 5,
   "metadata": {},
   "outputs": [],
   "source": [
    "def variancematrix(matrix, mean):\n",
    "    maxx = matrix.shape[0]\n",
    "    minn = matrix.shape[1]\n",
    "    variance = np.zeros((minn,minn))\n",
    "    for i in range(1,maxx+1):\n",
    "        single = np.outer(matrix[i-1,:]-mean, matrix[i-1,:]-mean)\n",
    "        variance = single + variance\n",
    "    variance = variance/float(maxx-1)\n",
    "    return variance"
   ]
  },
  {
   "cell_type": "code",
   "execution_count": 6,
   "metadata": {},
   "outputs": [],
   "source": [
    "# Obtain corvariance matrices\n",
    "train_data_var = np.zeros((1,10))\n",
    "for i in range(1,12):\n",
    "    variance = variancematrix(train_data_class[(i-1)*48:i*48,2:12], muk[i-1,:])\n",
    "    #variance = np.cov(train_data_class[(i-1)*48:i*48,:], rowvar=False)\n",
    "    train_data_var = np.append(train_data_var,variance,axis=0)\n",
    "train_data_var = np.delete(train_data_var, 0, 0)"
   ]
  },
  {
   "cell_type": "code",
   "execution_count": 7,
   "metadata": {},
   "outputs": [
    {
     "name": "stdout",
     "output_type": "stream",
     "text": [
      "98.8636363636\n"
     ]
    }
   ],
   "source": [
    "# Calculate the QDA discriminant function for training data\n",
    "f = np.zeros(11)\n",
    "largest_index = np.zeros(528)\n",
    "for j in range(1,529):\n",
    "    train_data_single = train_data[j-1,2:12]\n",
    "    for i in range(1,12):\n",
    "        f[i-1] = -0.5*np.log(np.linalg.det(train_data_var[(i-1)*10:i*10,:]))+ np.log(pik[i-1]) - 0.5*np.dot(np.matmul((train_data_single-muk[i-1,:]),(np.linalg.inv(train_data_var[(i-1)*10:i*10,:]))),(train_data_single-muk[i-1,:]))\n",
    "    largest_index[j-1] = np.where(f==np.amax(f))[0]\n",
    "largest_index = largest_index + 1\n",
    "correct_accuracy = np.where(largest_index==train_data[:,1])[0].shape[0]/float(528)*100\n",
    "print(correct_accuracy)"
   ]
  },
  {
   "cell_type": "code",
   "execution_count": 234,
   "metadata": {},
   "outputs": [
    {
     "name": "stdout",
     "output_type": "stream",
     "text": [
      "47.1861471861\n"
     ]
    }
   ],
   "source": [
    "# Calculate the QDA discriminant function for test data\n",
    "f = np.zeros(11)\n",
    "largest_index = np.zeros(462)\n",
    "for j in range(1,463):\n",
    "    test_data_single = test_data[j-1,2:12]\n",
    "    for i in range(1,12):\n",
    "        f[i-1] = -0.5*np.log(np.linalg.det(train_data_var[(i-1)*10:i*10,:]))+ np.log(pik[i-1]) - 0.5*np.dot(np.matmul((test_data_single-muk[i-1,:]),(np.linalg.inv(train_data_var[(i-1)*10:i*10,:]))),(test_data_single-muk[i-1,:]))\n",
    "    largest_index[j-1] = np.where(f==np.amax(f))[0]\n",
    "largest_index = largest_index + 1\n",
    "correct_accuracy = np.where(largest_index==test_data[:,1])[0].shape[0]/float(462)*100\n",
    "print(correct_accuracy)"
   ]
  }
 ],
 "metadata": {
  "kernelspec": {
   "display_name": "Python 2",
   "language": "python",
   "name": "python2"
  },
  "language_info": {
   "codemirror_mode": {
    "name": "ipython",
    "version": 2
   },
   "file_extension": ".py",
   "mimetype": "text/x-python",
   "name": "python",
   "nbconvert_exporter": "python",
   "pygments_lexer": "ipython2",
   "version": "2.7.15"
  }
 },
 "nbformat": 4,
 "nbformat_minor": 2
}
